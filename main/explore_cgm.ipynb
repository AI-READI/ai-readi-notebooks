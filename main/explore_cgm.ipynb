{
 "cells": [
  {
   "cell_type": "markdown",
   "id": "fe9cd5b0-7a0e-487c-bf82-5183d8dc6dd6",
   "metadata": {},
   "source": [
    "# Continuous Glucose Monitoring\n",
    "\n",
    "This notebook serves as an introduction to working with the CGM data in mHealth format. It will open one file and make a few plots.\n",
    "\n",
    "Information on this format may be found at https://github.com/openmhealth \n",
    "\n",
    "\n",
    "File organization is expected to follow this pattern:\n",
    "\n",
    "pilot_data_root           \n",
    "&emsp;wearable_blood_glucose    \n",
    "&emsp;&emsp;manifest.tsv    \n",
    "&emsp;&emsp;continuous_glucose_monitoring    \n",
    "&emsp;&emsp;&emsp;dexcom_g6    \n",
    "&emsp;&emsp;&emsp;&emsp;0001    \n",
    "&emsp;&emsp;&emsp;&emsp;&emsp;0001_DEX.json     \n",
    "&emsp;&emsp;&emsp;&emsp;0002    \n",
    "&emsp;&emsp;&emsp;&emsp;&emsp;0002_DEX.json   \n",
    "&emsp;&emsp;&emsp;&emsp;... etc."
   ]
  },
  {
   "cell_type": "code",
   "execution_count": null,
   "id": "d182842d-7b30-42e3-8217-53a6e5cb25d9",
   "metadata": {
    "tags": []
   },
   "outputs": [],
   "source": [
    "import json\n",
    "from datetime import datetime, timedelta\n",
    "\n",
    "import matplotlib.dates as mdates  # to use ConciseDateFormatter\n",
    "import matplotlib.pyplot as plt  # to make plots\n",
    "import pandas as pd"
   ]
  },
  {
   "cell_type": "code",
   "execution_count": null,
   "id": "aabd411d-eacf-4bc1-8ca1-76a09c7d4998",
   "metadata": {},
   "outputs": [],
   "source": [
    "print(f\"pd version: {pd.__version__}\")  # pd 2.1.4 was used for dev"
   ]
  },
  {
   "cell_type": "markdown",
   "id": "651231ba-bb44-4dda-8d0c-82351f420817",
   "metadata": {},
   "source": [
    "## custom path -- change to match your file structure"
   ]
  },
  {
   "cell_type": "code",
   "execution_count": null,
   "id": "729aa5c5-cfcf-43c0-9363-cd1ff45b2fc2",
   "metadata": {},
   "outputs": [],
   "source": [
    "data_root = \"/Volumes/data/datasets/AIREADI/YEAR2/\"  # change this to your own path"
   ]
  },
  {
   "cell_type": "markdown",
   "id": "2f88cb60-53cc-4c12-ba27-76b1b250dfd8",
   "metadata": {},
   "source": [
    "# Read the manifest"
   ]
  },
  {
   "cell_type": "code",
   "execution_count": null,
   "id": "0307107f-df2d-468d-b85c-c89a7a2e05c9",
   "metadata": {},
   "outputs": [],
   "source": [
    "manifest_path = data_root + \"wearable_blood_glucose/manifest.tsv\"\n",
    "print(manifest_path)"
   ]
  },
  {
   "cell_type": "code",
   "execution_count": null,
   "id": "0f21ff53-20e3-4673-bfce-20eacc81551a",
   "metadata": {},
   "outputs": [],
   "source": [
    "dfm = pd.read_csv(manifest_path, sep=\"\\t\")\n",
    "print(dfm.columns)"
   ]
  },
  {
   "cell_type": "code",
   "execution_count": null,
   "id": "0a65ea2c-ad93-461a-9043-e14c06c885ad",
   "metadata": {},
   "outputs": [],
   "source": [
    "dfm[\"participant_id\"].nunique()  # number of unique participants"
   ]
  },
  {
   "cell_type": "code",
   "execution_count": null,
   "id": "5fafe0f6-386f-4700-b2ed-4e1e2c5b4447",
   "metadata": {},
   "outputs": [],
   "source": [
    "dfm.head()"
   ]
  },
  {
   "cell_type": "code",
   "execution_count": null,
   "id": "2bcdd878-0285-4786-b5a1-62fa67ef472d",
   "metadata": {},
   "outputs": [],
   "source": [
    "key_columns = [\n",
    "    \"participant_id\",\n",
    "    \"average_glucose_level_mg_dl\",\n",
    "    \"glucose_sensor_sampling_duration_days\",\n",
    "]  # optionally view only a few columns\n",
    "\n",
    "dfm[key_columns].head(2)"
   ]
  },
  {
   "cell_type": "markdown",
   "id": "4717669c-09fd-4fba-b297-ad83e6aa36ea",
   "metadata": {},
   "source": [
    "# Select a set of data to explore"
   ]
  },
  {
   "cell_type": "code",
   "execution_count": null,
   "id": "8b3e4f21-7142-48d7-9808-95a8ffecb264",
   "metadata": {},
   "outputs": [],
   "source": [
    "pid = 1005  # select a participant ID\n",
    "\n",
    "pid_cgm = dfm[dfm[\"participant_id\"] == pid][\"glucose_filepath\"].values[0]\n",
    "print(f\"{pid} full path: {pid_cgm}\")"
   ]
  },
  {
   "cell_type": "code",
   "execution_count": null,
   "id": "81ef1397-8121-4d86-bdf4-704c500738f2",
   "metadata": {},
   "outputs": [],
   "source": [
    "cgm_path = data_root + pid_cgm\n",
    "print(cgm_path)"
   ]
  },
  {
   "cell_type": "markdown",
   "id": "a89a54b9-8972-41a8-a1fd-0f8973188426",
   "metadata": {},
   "source": [
    "## read and explore the data"
   ]
  },
  {
   "cell_type": "markdown",
   "id": "2614a6ed-862d-41b0-91e0-ee339cc258b8",
   "metadata": {},
   "source": [
    "### open the mHealth formatted data"
   ]
  },
  {
   "cell_type": "code",
   "execution_count": null,
   "id": "0982f6d3-2e63-4caa-b8e9-9d93c8d99c0c",
   "metadata": {},
   "outputs": [],
   "source": [
    "# read the mHealth formatted data as json\n",
    "with open(cgm_path, \"r\") as f:\n",
    "    data = json.load(f)\n",
    "print(data.keys())"
   ]
  },
  {
   "cell_type": "code",
   "execution_count": null,
   "id": "6edd2bbb-3462-4e90-902a-615a93694bf1",
   "metadata": {},
   "outputs": [],
   "source": [
    "def flatten_json(y):\n",
    "    out = {}\n",
    "\n",
    "    def flatten(x, name=\"\"):\n",
    "        print(f'type(x) is {type(x)}')\n",
    "        if type(x) is dict:\n",
    "            for a in x:\n",
    "                flatten(x[a], name + a + \"_\")\n",
    "        elif type(x) is list:\n",
    "            i = 0\n",
    "            for a in x:\n",
    "                flatten(a, name + str(i) + \"_\")\n",
    "                i += 1\n",
    "        else:\n",
    "            out[name[:-1]] = x\n",
    "\n",
    "    flatten(y)\n",
    "    return out"
   ]
  },
  {
   "cell_type": "code",
   "execution_count": null,
   "id": "3b66b90f-a4fd-41ac-b9bf-153856344d29",
   "metadata": {},
   "outputs": [],
   "source": [
    "cgm_header = flatten_json(data[\"header\"])\n",
    "print(cgm_header)"
   ]
  },
  {
   "cell_type": "code",
   "execution_count": null,
   "id": "88bd27e0-7bbe-4cee-bb72-61ca9627aba5",
   "metadata": {},
   "outputs": [],
   "source": [
    "# CGM observations are in a list of nested dicts; flatten these\n",
    "list_of_body_dicts = list()\n",
    "for observation in data[\"body\"][\"cgm\"]:\n",
    "    flat_obs = flatten_json(observation)\n",
    "    list_of_body_dicts.append(flat_obs)"
   ]
  },
  {
   "cell_type": "markdown",
   "id": "a85fdeb8-696d-4778-b427-f0d42b68b3f5",
   "metadata": {},
   "source": [
    "### convert to pandas data frame"
   ]
  },
  {
   "cell_type": "code",
   "execution_count": null,
   "id": "18c54c97-49e6-4de3-9488-a1ff0a28f7aa",
   "metadata": {},
   "outputs": [],
   "source": [
    "df = pd.DataFrame.from_records(list_of_body_dicts)\n",
    "print(df.shape)"
   ]
  },
  {
   "cell_type": "code",
   "execution_count": null,
   "id": "f1dfa3d0-08c8-4b6a-bac1-868c9a07410e",
   "metadata": {},
   "outputs": [],
   "source": [
    "print(f\"CGM columns: {df.columns}\")"
   ]
  },
  {
   "cell_type": "code",
   "execution_count": null,
   "id": "f68f605a-7b97-4bbc-8af6-f18ecc8360b0",
   "metadata": {},
   "outputs": [],
   "source": [
    "df.rename(\n",
    "    columns={\n",
    "        \"effective_time_frame_time_interval_start_date_time\": \"start_time\",\n",
    "        \"effective_time_frame_time_interval_end_date_time\": \"end_time\",\n",
    "    },\n",
    "    inplace=True,\n",
    ")"
   ]
  },
  {
   "cell_type": "code",
   "execution_count": null,
   "id": "11ee4ab0-ee67-4de8-ab9e-f5610e1c3062",
   "metadata": {},
   "outputs": [],
   "source": [
    "def convert_time_string_to_datetime(t_str):\n",
    "    \"\"\"Converts time string to datetime format. Does not convert to local time.\n",
    "    Args:\n",
    "        t_str (str): UTC time string such as 2023-08-01T20:39:33Z\n",
    "    Returns: datetime object\n",
    "    \"\"\"\n",
    "    datetime_object = datetime.strptime(t_str, \"%Y-%m-%dT%H:%M:%SZ\")  # 4 digit Year\n",
    "    return datetime_object"
   ]
  },
  {
   "cell_type": "code",
   "execution_count": null,
   "id": "f9b979e1-b27c-4e4c-b47e-1b45789f295a",
   "metadata": {},
   "outputs": [],
   "source": [
    "df.columns"
   ]
  },
  {
   "cell_type": "code",
   "execution_count": null,
   "id": "cca96c4a-8ec6-4b0f-981f-ecedc65744e8",
   "metadata": {},
   "outputs": [],
   "source": [
    "df[\"start_dtime\"] = df.apply(\n",
    "    lambda row: convert_time_string_to_datetime(row[\"start_time\"]), axis=1)"
   ]
  },
  {
   "cell_type": "code",
   "execution_count": null,
   "id": "a4c6947a-a10b-4855-8ccb-e86075a4423d",
   "metadata": {},
   "outputs": [],
   "source": [
    "df.info()  # note that blood_glucose_value may be object; int is expected"
   ]
  },
  {
   "cell_type": "code",
   "execution_count": null,
   "id": "1aca2803-397f-4234-8b7e-5790b6bbff17",
   "metadata": {},
   "outputs": [],
   "source": [
    "df.head()"
   ]
  },
  {
   "cell_type": "code",
   "execution_count": null,
   "id": "8712db3c-8807-4e5c-b568-f781624586c2",
   "metadata": {},
   "outputs": [],
   "source": [
    "mask_bg_int_only = ~df[\"blood_glucose_value\"].isin([\"Low\", \"High\"])\n",
    "bg_min = df[mask_bg_int_only][\"blood_glucose_value\"].min()\n",
    "bg_max = df[mask_bg_int_only][\"blood_glucose_value\"].max()\n",
    "print(f\"Lowest blood_glucose_value: {bg_min}\")\n",
    "print(f\"Highest blood_glucose_value: {bg_max}\")"
   ]
  },
  {
   "cell_type": "markdown",
   "id": "72766837-41d6-4704-af04-03a3aadb432c",
   "metadata": {},
   "source": [
    "## plot blood glucose values"
   ]
  },
  {
   "cell_type": "markdown",
   "id": "4eafff05-f3bf-4eb7-b20f-b5b6d137d479",
   "metadata": {},
   "source": [
    "### handle non-numeric blood glucose values\n",
    "\n",
    "Most values are integers, but some may be either \"High\" or \"Low\".     \n",
    "The sensor reports    \n",
    " - <  40 \"Low\"     \n",
    " - \\> 400 \"High\"\n",
    "   \n",
    "The terms \"Low\" and \"High\" can be replaced with these values, or more extreme values could be used (0, 500) for visualization purposes."
   ]
  },
  {
   "cell_type": "code",
   "execution_count": null,
   "id": "3c1ccec3-46e5-4f99-a7b9-d472de6f0373",
   "metadata": {},
   "outputs": [],
   "source": [
    "# df['blood_glucose_value'].value_counts()  # peek at the value distribution\n",
    "low_value = 40  # select a value to use for low\n",
    "high_value = 400  # select a value to use for high\n",
    "\n",
    "if 0:\n",
    "    df.replace(\n",
    "        {\"Low\": low_value, \"High\": high_value}, inplace=True\n",
    "    )  # notebook dev used pd 2.1.4\n",
    "else:  # to avoid the FutureWarning regarding Downcasting behavior in 'replace'\n",
    "\n",
    "    def replace_alt(val, low_value, high_value):\n",
    "        if val == \"Low\":\n",
    "            return low_value\n",
    "        elif val == \"High\":\n",
    "            return high_value\n",
    "        else:\n",
    "            return val\n",
    "\n",
    "    df[\"blood_glucose_value\"] = df.apply(\n",
    "        lambda x: replace_alt(x[\"blood_glucose_value\"], low_value, high_value), axis=1\n",
    "    )"
   ]
  },
  {
   "cell_type": "code",
   "execution_count": null,
   "id": "ad309a32-2ae9-40aa-a391-06a0432763c5",
   "metadata": {},
   "outputs": [],
   "source": [
    "# df.info()  # optional view of the Dtype for each column of data; blood glucose should be int"
   ]
  },
  {
   "cell_type": "code",
   "execution_count": null,
   "id": "4edf6022-6db4-4fa1-90a7-1b25d6aa5bed",
   "metadata": {},
   "outputs": [],
   "source": [
    "yaxis_adjusts_to_data = True"
   ]
  },
  {
   "cell_type": "code",
   "execution_count": null,
   "id": "35a1d2dd-c3c2-4dee-8c7e-ceccb8be7587",
   "metadata": {},
   "outputs": [],
   "source": [
    "fig, ax = plt.subplots(2, 1, figsize=(8, 6))\n",
    "fig.suptitle(\n",
    "    f\"Blood glucose vs time. Participant range: [{bg_min}, {bg_max}]\\n Alerts for Low, High are mapped to {low_value}, {high_value}\\n\"\n",
    ")\n",
    "\n",
    "df.plot.line(\n",
    "    x=\"transmitter_time_value\", y=\"blood_glucose_value\", ax=ax[0], legend=False\n",
    ")\n",
    "ax[0].set_title(\"Blood Glucose value vs time index\")\n",
    "\n",
    "df.plot.line(x=\"start_dtime\", y=\"blood_glucose_value\", ax=ax[1], legend=False)\n",
    "ax[1].set_title(\"Blood Glucose value vs. timestamp\")\n",
    "if yaxis_adjusts_to_data:\n",
    "    ax[1].set_title(\"Blood glucose - yaxis scales with data\")\n",
    "else:\n",
    "    ax[1].set_title(\"Blood glucose - yaxis [0, 505]\")\n",
    "    ax[1].set_ylim(0, 505)\n",
    "ax[1].xaxis.set_major_locator(mdates.HourLocator(byhour=12))  # each day at noon\n",
    "ax[1].xaxis.set_major_formatter(mdates.DateFormatter(\"%Y-%m-%d %H:%M\"))\n",
    "\n",
    "# plt.tick_params(\n",
    "#     axis='x',          # changes apply to the x-axis\n",
    "#     which='both',      # both major and minor ticks are affected\n",
    "#     bottom=True,       # set ticks along the bottom edge on\n",
    "#     top=False,         # set ticks along the top edge off\n",
    "#     labelbottom=True)  # set labels along the bottom edge on\n",
    "\n",
    "# plt.xlabel('timestamp')\n",
    "plt.xticks(rotation=45, ha=\"right\")\n",
    "plt.tight_layout()"
   ]
  },
  {
   "cell_type": "code",
   "execution_count": null,
   "id": "204e2b6d-91db-4adb-999d-0e6e85586f5a",
   "metadata": {},
   "outputs": [],
   "source": [
    "print(\"Done\")"
   ]
  }
 ],
 "metadata": {
  "kernelspec": {
   "display_name": "ai-readi-dataset-notebooks",
   "language": "python",
   "name": "ai-readi-dataset-notebooks"
  },
  "language_info": {
   "codemirror_mode": {
    "name": "ipython",
    "version": 3
   },
   "file_extension": ".py",
   "mimetype": "text/x-python",
   "name": "python",
   "nbconvert_exporter": "python",
   "pygments_lexer": "ipython3",
   "version": "3.12.0"
  }
 },
 "nbformat": 4,
 "nbformat_minor": 5
}
