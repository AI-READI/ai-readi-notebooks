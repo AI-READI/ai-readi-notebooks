{
 "cells": [
  {
   "cell_type": "markdown",
   "id": "fe9cd5b0-7a0e-487c-bf82-5183d8dc6dd6",
   "metadata": {},
   "source": [
    "# Activity Monitor\n",
    "\n",
    "This notebook serves as an introduction to working with the Activity Monitor data in mHealth format. It will open one file and make a few plots.\n",
    "\n",
    "Information on this format may be found at https://github.com/openmhealth\n",
    "\n",
    "\n",
    "File organization is expected to follow this pattern:\n",
    "\n",
    "pilot_data_root           \n",
    "&emsp;wearable_activity_monitor    \n",
    "&emsp;&emsp;manifest.tsv    \n",
    "&emsp;&emsp;heart_rate    \n",
    "&emsp;&emsp;&emsp;garmin_vivosmart5    \n",
    "&emsp;&emsp;&emsp;&emsp;0001    \n",
    "&emsp;&emsp;&emsp;&emsp;&emsp;0001_heartrate.json     \n",
    "&emsp;&emsp;&emsp;&emsp;0002    \n",
    "&emsp;&emsp;&emsp;&emsp;&emsp;0002_heartrate.json   \n",
    "&emsp;&emsp;sleep    \n",
    "&emsp;&emsp;&emsp;garmin_vivosmart5    \n",
    "&emsp;&emsp;&emsp;&emsp;0001    \n",
    "&emsp;&emsp;&emsp;&emsp;&emsp;0001_sleep.json     \n",
    "&emsp;&emsp;&emsp;&emsp;0002    \n",
    "&emsp;&emsp;&emsp;&emsp;&emsp;0002_sleep.json  \n",
    "&emsp;&emsp;&emsp;&emsp;... etc."
   ]
  },
  {
   "cell_type": "code",
   "execution_count": null,
   "id": "d182842d-7b30-42e3-8217-53a6e5cb25d9",
   "metadata": {
    "tags": []
   },
   "outputs": [],
   "source": [
    "import json\n",
    "from datetime import datetime, timedelta\n",
    "\n",
    "import matplotlib.dates as mdates  # to use ConciseDateFormatter\n",
    "import matplotlib.pyplot as plt  # to make plots\n",
    "import pandas as pd"
   ]
  },
  {
   "cell_type": "markdown",
   "id": "651231ba-bb44-4dda-8d0c-82351f420817",
   "metadata": {},
   "source": [
    "## custom path -- change to match your file structure"
   ]
  },
  {
   "cell_type": "code",
   "execution_count": null,
   "id": "729aa5c5-cfcf-43c0-9363-cd1ff45b2fc2",
   "metadata": {},
   "outputs": [],
   "source": [
    "data_root = \"/Volumes/data/datasets/AIREADI/YEAR2\"  # change this to your own path"
   ]
  },
  {
   "cell_type": "markdown",
   "id": "2f88cb60-53cc-4c12-ba27-76b1b250dfd8",
   "metadata": {},
   "source": [
    "# Read the manifest"
   ]
  },
  {
   "cell_type": "code",
   "execution_count": null,
   "id": "0307107f-df2d-468d-b85c-c89a7a2e05c9",
   "metadata": {},
   "outputs": [],
   "source": [
    "manifest_path = data_root + \"/wearable_activity_monitor/manifest.tsv\"\n",
    "print(manifest_path)"
   ]
  },
  {
   "cell_type": "code",
   "execution_count": null,
   "id": "0f21ff53-20e3-4673-bfce-20eacc81551a",
   "metadata": {},
   "outputs": [],
   "source": [
    "dfm = pd.read_csv(manifest_path, sep=\"\\t\")\n",
    "print(dfm.columns)"
   ]
  },
  {
   "cell_type": "code",
   "execution_count": null,
   "id": "c1cf8e69-71d9-4416-8d86-96d924cd509a",
   "metadata": {},
   "outputs": [],
   "source": [
    "filepath_cols = [x for x in dfm.columns if \"filepath\" in x]\n",
    "print(filepath_cols)"
   ]
  },
  {
   "cell_type": "code",
   "execution_count": null,
   "id": "0a65ea2c-ad93-461a-9043-e14c06c885ad",
   "metadata": {},
   "outputs": [],
   "source": [
    "npid = dfm[\"participant_id\"].nunique()  # number of unique participants\n",
    "npid_list = dfm[\"participant_id\"].unique()\n",
    "print(f\"{npid} unique participant_ids:\\n{npid_list}\")"
   ]
  },
  {
   "cell_type": "code",
   "execution_count": null,
   "id": "5fafe0f6-386f-4700-b2ed-4e1e2c5b4447",
   "metadata": {},
   "outputs": [],
   "source": [
    "dfm.head()"
   ]
  },
  {
   "cell_type": "code",
   "execution_count": null,
   "id": "2bcdd878-0285-4786-b5a1-62fa67ef472d",
   "metadata": {},
   "outputs": [],
   "source": [
    "key_columns = [\n",
    "    \"participant_id\",\n",
    "    \"sensor_sampling_duration_days\",\n",
    "    \"average_heartrate_bpm\",\n",
    "]  # optionally view only a few columns\n",
    "\n",
    "dfm[key_columns].head(2)"
   ]
  },
  {
   "cell_type": "markdown",
   "id": "4717669c-09fd-4fba-b297-ad83e6aa36ea",
   "metadata": {},
   "source": [
    "# Select a set of data to explore"
   ]
  },
  {
   "cell_type": "code",
   "execution_count": null,
   "id": "8b3e4f21-7142-48d7-9808-95a8ffecb264",
   "metadata": {},
   "outputs": [],
   "source": [
    "pid = 4038  # select a participant ID\n",
    "# 1043, 4038, 7060 are example of participants with missing data"
   ]
  },
  {
   "cell_type": "code",
   "execution_count": null,
   "id": "55c5e120-09f2-4bc5-b8cd-0ff564c96e96",
   "metadata": {},
   "outputs": [],
   "source": [
    "def mk_full(xpath):\n",
    "    if (pd.isna(xpath)) or (xpath == \"None\"):\n",
    "        return \"no_file\"\n",
    "    else:\n",
    "        return data_root + xpath"
   ]
  },
  {
   "cell_type": "code",
   "execution_count": null,
   "id": "781cee27-074b-47d3-a1e2-6dd4947f131d",
   "metadata": {},
   "outputs": [],
   "source": [
    "full_file_dict = {\n",
    "    c: mk_full(dfm[dfm[\"participant_id\"] == pid][c].values[0]) for c in filepath_cols\n",
    "}"
   ]
  },
  {
   "cell_type": "code",
   "execution_count": null,
   "id": "29fe13cb-757f-4e15-a00b-785aa9f2d7a9",
   "metadata": {},
   "outputs": [],
   "source": [
    "for k, v in full_file_dict.items():\n",
    "    print(f\"{k}  : {v}\\n\")"
   ]
  },
  {
   "cell_type": "markdown",
   "id": "a89a54b9-8972-41a8-a1fd-0f8973188426",
   "metadata": {},
   "source": [
    "## read and explore the data"
   ]
  },
  {
   "cell_type": "markdown",
   "id": "138842e7-ef17-45c6-a432-8fbdd16166fd",
   "metadata": {},
   "source": [
    "### supporting functions and information"
   ]
  },
  {
   "cell_type": "code",
   "execution_count": null,
   "id": "c7bf1f06-4bbd-441f-ae94-c4964758e3c6",
   "metadata": {},
   "outputs": [],
   "source": [
    "def open_mhealth_json(filepath, verbose=False):\n",
    "    # read the mHealth formatted data as json\n",
    "    with open(filepath, \"r\") as f:\n",
    "        data = json.load(f)\n",
    "\n",
    "    f_simple = filepath.split(\"/\")[-1]\n",
    "    if verbose:\n",
    "        print(\n",
    "            f'{f_simple} has keys {data.keys()} and body has keys {data[\"body\"].keys()}'\n",
    "        )\n",
    "\n",
    "    header = data[\"header\"]\n",
    "\n",
    "    # all of the activity files currently have one more key to get to the body information\n",
    "    keylist = [k for k in data[\"body\"].keys()]\n",
    "    key1 = keylist[0]\n",
    "    body = data[\"body\"][key1]\n",
    "\n",
    "    return header, body"
   ]
  },
  {
   "cell_type": "raw",
   "id": "8a7fff66-1c51-434d-8a37-a881d191e176",
   "metadata": {},
   "source": [
    "### body contents vary amongst the activity types\n",
    "heartrate\n",
    "    \"body\": {\n",
    "        \"heart_rate\": [\n",
    "            {\n",
    "                \"heart_rate\": {\"value\": 0, \"unit\": \"beats/min\"},\n",
    "                \"effective_time_frame\": {\"date_time\": \"2023-08-31T17:54:00Z\"}\n",
    "            },\n",
    "\n",
    "oxygen_saturation\n",
    "    \"body\": {\n",
    "        \"breathing\": [\n",
    "            {\n",
    "                \"oxygen_saturation\": {\"value\": 90.0, \"unit\": \"%\"},\n",
    "                \"effective_time_frame\": {\"date_time\": \"2023-09-01T07:07:00Z\"},\n",
    "                \"measurement_method\": \"pulse oximetry\"\n",
    "            },\n",
    "\n",
    "physical_activity\n",
    "    \"body\": {\n",
    "        \"activity\": [\n",
    "            {\n",
    "                \"activity_name\": \"\",   # other examples are \"sedentary\"\n",
    "                \"base_movement_quantity\": {\"value\": \"\", \"unit\": \"steps\"}, # if sedentary, value is # of steps, e.g. 0\n",
    "                \"effective_time_frame\": {\"time_interval\": {\n",
    "                        \"start_date_time\": \"2023-08-31 17:57:00\",\n",
    "                        \"end_date_time\": \"2023-08-31 17:57:00\"}}\n",
    "            },\n",
    "\n",
    "physical_activity_calorie\n",
    "    \"body\": {\n",
    "        \"activity\": [\n",
    "            {\n",
    "                \"activity_name\": \"kcal_burned\",\n",
    "                \"duration\": {\"value\": 5,\"unit\": \"kcal\"},\n",
    "                \"effective_time_frame\": {\"date_time\": \"2023-08-31T21:06:00Z\"}\n",
    "            }, \n",
    "\n",
    "respiratory_rate\n",
    "    \"body\": {\n",
    "        \"breathing\": [\n",
    "            {\n",
    "                \"respiratory_rate\": {\"value\": -2.0, \"unit\": \"breaths/min\"},\n",
    "                \"effective_time_frame\": {\"date_time\": \"2023-08-31T17:58:00Z\"}\n",
    "            },\n",
    "sleep\n",
    "    \"body\": {\n",
    "        \"sleep\": [\n",
    "            {\n",
    "                \"sleep_duration\": {\"value\": 3.77,\"unit\": \"h\"},\n",
    "                \"effective_time_frame\": {\"time_interval\": {\n",
    "                        \"start_date_time\": \"2023-09-01T04:52:00Z\",\n",
    "                        \"end_date_time\": \"2023-09-01T08:38:00Z\"}}\n",
    "            },\n",
    "\n",
    "stress\n",
    "    \"body\": {\n",
    "        \"stress\": [\n",
    "            {\n",
    "                \"stress\": {\"value\": -1,\"unit\": \"stress level\"},\n",
    "                \"effective_time_frame\": {\n",
    "                    \"date_time\": \"2023-08-31T17:58:00Z\"}\n",
    "            },"
   ]
  },
  {
   "cell_type": "code",
   "execution_count": null,
   "id": "6edd2bbb-3462-4e90-902a-615a93694bf1",
   "metadata": {},
   "outputs": [],
   "source": [
    "def flatten_json(y):\n",
    "    out = {}\n",
    "\n",
    "    def flatten(x, name=\"\"):\n",
    "        if type(x) is dict:\n",
    "            for a in x:\n",
    "                flatten(x[a], name + a + \"_\")\n",
    "        elif type(x) is list:\n",
    "            i = 0\n",
    "            for a in x:\n",
    "                flatten(a, name + str(i) + \"_\")\n",
    "                i += 1\n",
    "        else:\n",
    "            out[name[:-1]] = x\n",
    "\n",
    "    flatten(y)\n",
    "    return out"
   ]
  },
  {
   "cell_type": "code",
   "execution_count": null,
   "id": "11ee4ab0-ee67-4de8-ab9e-f5610e1c3062",
   "metadata": {},
   "outputs": [],
   "source": [
    "def convert_time_string_to_datetime(t_str):\n",
    "    \"\"\"Converts time string to datetime format. Does not convert to local time.\n",
    "    Args:\n",
    "        t_str (str): UTC time string such as 2023-08-01T20:39:33Z\n",
    "    Returns: datetime object\n",
    "    \"\"\"\n",
    "    try:\n",
    "        datetime_object = datetime.strptime(t_str, \"%Y-%m-%dT%H:%M:%SZ\")  # 4 digit Year\n",
    "    except Exception as e:\n",
    "        # print(f'Unknown date format: {t_str}')  # use this after we have the repaired files\n",
    "        # use this for now to allow progress while the missing T, Z values are being fixed\n",
    "        try:\n",
    "            datetime_object = datetime.strptime(\n",
    "                t_str, \"%Y-%m-%d %H:%M:%S\"\n",
    "            )  # 4 digit Year\n",
    "        except Exception as e2:\n",
    "            print(f\"Unknown date format: {t_str}\")\n",
    "    return datetime_object"
   ]
  },
  {
   "cell_type": "code",
   "execution_count": null,
   "id": "202657a9-59bb-4495-a149-88c4eb24cbcc",
   "metadata": {},
   "outputs": [],
   "source": [
    "def create_dataframe_from_body(b, verbose=False):\n",
    "    # Activity observations are in a list of nested dicts; flatten these\n",
    "    list_of_body_dicts = list()\n",
    "    for observation in b:\n",
    "        flat_obs = flatten_json(observation)\n",
    "        list_of_body_dicts.append(flat_obs)\n",
    "\n",
    "    df = pd.DataFrame.from_records(list_of_body_dicts)\n",
    "    if verbose:\n",
    "        print(f\"  df {df.shape} with columns {df.columns}\")\n",
    "\n",
    "    # Flattening the dict creates some very long column names; shorten these\n",
    "    df.rename(\n",
    "        columns={\n",
    "            # some activities use 2 time stamps\n",
    "            \"effective_time_frame_time_interval_start_date_time\": \"start_time\",\n",
    "            \"effective_time_frame_time_interval_end_date_time\": \"end_time\",\n",
    "            # others use only 1 time stamp\n",
    "            \"effective_time_frame_date_time\": \"start_time\",\n",
    "        },\n",
    "        inplace=True,\n",
    "    )\n",
    "    # note that this notebook will use only the start_time for making plots\n",
    "    df[\"start_dtime\"] = df.apply(\n",
    "        lambda row: convert_time_string_to_datetime(row[\"start_time\"]), axis=1\n",
    "    )\n",
    "    if verbose:\n",
    "        print(f\"  df {df.shape} with renamed columns {df.columns}\")\n",
    "\n",
    "    # physical_activity may contain an empty activity with an empty value; remove that data\n",
    "    if \"activity_name\" in df.columns.tolist():\n",
    "        mask_no_activity_value = df[\"activity_name\"] == \"\"\n",
    "        df = df[~mask_no_activity_value]\n",
    "        if verbose:\n",
    "            print(f\"  df {df.shape} after dropping empty activities {df.columns}\")\n",
    "\n",
    "    # calories may contain a filed called duration_value which is not helpful; change the name\n",
    "    if \"duration_value\" in df.columns.tolist():\n",
    "        if (\"duration_unit\" in df.columns.tolist()) and (\n",
    "            df[\"duration_unit\"].value_counts().index[0] == \"kcal\"\n",
    "        ):\n",
    "            df.rename(columns={\"duration_value\": \"kcalorie_value\"}, inplace=True)\n",
    "\n",
    "    return df"
   ]
  },
  {
   "cell_type": "code",
   "execution_count": null,
   "id": "6d977855-5797-4072-bbb1-4682bb24aef3",
   "metadata": {},
   "outputs": [],
   "source": [
    "def plot_activity(df, value_col, pid=0, title=None):\n",
    "\n",
    "    fig, ax = plt.subplots(1, 1, figsize=(8, 3))\n",
    "\n",
    "    ax.xaxis.set_major_locator(mdates.HourLocator(interval=24))\n",
    "    ax.xaxis.set_major_locator(mdates.HourLocator(byhour=12))  # each day at noon\n",
    "    ax.xaxis.set_major_formatter(mdates.DateFormatter(\"%Y-%m-%d %H:%M\"))\n",
    "\n",
    "    # df.plot.line(x='start_dtime', y=value_col, ax=ax, legend=False)  # another option for plotting\n",
    "    df.plot.scatter(x=\"start_dtime\", y=value_col, ax=ax, legend=False)\n",
    "\n",
    "    # get a few stats to include in the title\n",
    "    min_dtime = df[\"start_dtime\"].min()\n",
    "    max_dtime = df[\"start_dtime\"].max()\n",
    "\n",
    "    if title is not None:\n",
    "        ax.set_title(title)\n",
    "    else:\n",
    "        ax.set_title(\n",
    "            f\"{value_col} vs. timestamp.\\nMin_date: {min_dtime}    Max_date: {max_dtime}\"\n",
    "        )\n",
    "\n",
    "    plt.xticks(rotation=45, ha=\"right\")\n",
    "    plt.tight_layout()\n",
    "\n",
    "    return min_dtime, max_dtime, fig"
   ]
  },
  {
   "cell_type": "code",
   "execution_count": null,
   "id": "fb10ece4-fe99-465a-86c0-d3846612062f",
   "metadata": {},
   "outputs": [],
   "source": [
    "### some notes on physical_activity\n",
    "# \"activity_name\": \"\",\n",
    "# \"activity_name\": \"generic\",\n",
    "# \"activity_name\": \"running\",\n",
    "# \"activity_name\": \"sedentary\",\n",
    "# \"activity_name\": \"walking\","
   ]
  },
  {
   "cell_type": "markdown",
   "id": "9060b850-90a5-4c6b-9f4a-1f98c12cb94a",
   "metadata": {},
   "source": [
    "### open and read mHealth files"
   ]
  },
  {
   "cell_type": "code",
   "execution_count": null,
   "id": "ce7e764d-c68e-4d2b-ac1a-81a1622d27e2",
   "metadata": {},
   "outputs": [],
   "source": [
    "verbose = (\n",
    "    True  # set this to True if you want more information as you decipher this notebook\n",
    ")"
   ]
  },
  {
   "cell_type": "code",
   "execution_count": null,
   "id": "6e74bebb-31d4-44e7-9d98-e96642ad2748",
   "metadata": {
    "scrolled": true
   },
   "outputs": [],
   "source": [
    "for k, v in full_file_dict.items():\n",
    "    if v == \"no_file\":\n",
    "        print(f\"  No file associated with {k}\")\n",
    "    else:\n",
    "        h, b = open_mhealth_json(v, verbose=verbose)\n",
    "        # print(f'  header has keys {h.keys()}')  # not used here, but can be explored\n",
    "        if verbose:\n",
    "            print(f\"  body has {len(b)} elements\")\n",
    "        if len(b) > 0:\n",
    "\n",
    "            df = create_dataframe_from_body(b, verbose=verbose)\n",
    "\n",
    "            value_fields = [x for x in df.columns if \"_value\" in x]\n",
    "            if verbose:\n",
    "                print(f\"  plottable value fields: {len(value_fields)} {value_fields}\")\n",
    "\n",
    "            for value_col in value_fields:\n",
    "                min_dtime, max_dtime, fig = plot_activity(\n",
    "                    df, value_col, pid=pid, title=None\n",
    "                )\n",
    "                print(\n",
    "                    f\"   data earliest timestamp: {min_dtime}    data latest timestamp: {max_dtime}\"\n",
    "                )\n",
    "        else:\n",
    "            print(f\"  No observation data so no plot for {v}\")\n",
    "    print(\"\\n\", \"-\" * 40, \"\\n\")"
   ]
  },
  {
   "cell_type": "markdown",
   "id": "fa3d9306-624b-4d39-93b7-d025105f55a6",
   "metadata": {},
   "source": [
    "# A few final notes\n",
    "\n",
    "Note that the watch keeps recording after the participant takes it off, and some variables save the data: heart rate, stress, respiratory, and movement\n",
    "\n",
    "Other values stop being saved, so they could be used to help locate only the data of interest: oxygen_saturation, sleep (shown above), kcalorie"
   ]
  },
  {
   "cell_type": "code",
   "execution_count": null,
   "id": "cca96c4a-8ec6-4b0f-981f-ecedc65744e8",
   "metadata": {},
   "outputs": [],
   "source": []
  },
  {
   "cell_type": "code",
   "execution_count": null,
   "id": "204e2b6d-91db-4adb-999d-0e6e85586f5a",
   "metadata": {},
   "outputs": [],
   "source": [
    "print(\"Done\")"
   ]
  },
  {
   "cell_type": "code",
   "execution_count": null,
   "id": "b1165058-544f-45a4-9163-940c1f08ad8a",
   "metadata": {},
   "outputs": [],
   "source": []
  }
 ],
 "metadata": {
  "kernelspec": {
   "display_name": "ai-readi-dataset-notebooks",
   "language": "python",
   "name": "ai-readi-dataset-notebooks"
  },
  "language_info": {
   "codemirror_mode": {
    "name": "ipython",
    "version": 3
   },
   "file_extension": ".py",
   "mimetype": "text/x-python",
   "name": "python",
   "nbconvert_exporter": "python",
   "pygments_lexer": "ipython3",
   "version": "3.12.0"
  }
 },
 "nbformat": 4,
 "nbformat_minor": 5
}
