{
 "cells": [
  {
   "cell_type": "markdown",
   "id": "ddfba858",
   "metadata": {},
   "source": [
    "# explore_clinicaldata\n",
    "\n",
    "# What is a \"concept ID\"?"
   ]
  },
  {
   "cell_type": "markdown",
   "id": "58728f27",
   "metadata": {},
   "source": [
    "In the AIREADI dataset, OMOP concept IDs are assigned to various variables such as HbA1c, visual acuity, and answers to questionnaires for standardization purposes. For more details, see the OMOP Clinical Data Structure documentation: https://docs.aireadi.org/docs/1/dataset/clinical-data/OMOP-Clinical-Data-Structure/. Finding concept IDs is essential when searching for specific values."
   ]
  },
  {
   "cell_type": "markdown",
   "id": "564438a6",
   "metadata": {},
   "source": [
    "To explore which values are included, you can refer to the OMOP Mapping Table for clinical data (https://docs.aireadi.org/v1-omopTable) or the Data Domain Table for clinical lab tests (https://docs.aireadi.org/v1-dataDomainTable)."
   ]
  },
  {
   "cell_type": "markdown",
   "id": "9357f539",
   "metadata": {},
   "source": [
    "# How to find concept IDs?\n",
    "\n",
    "To identify concept IDs, you can use files such as condition_occurrence.csv, measurement.csv, and observation.csv within the clinical_data section of the dataset.     \n",
    "\n",
    "The following examples show how to find and use concept IDs to filter the data."
   ]
  },
  {
   "cell_type": "code",
   "execution_count": null,
   "id": "7c8cd69d-7947-4876-b774-332cec55d93f",
   "metadata": {},
   "outputs": [],
   "source": [
    "import os\n",
    "import stat\n",
    "\n",
    "from tqdm import tqdm\n",
    "\n",
    "import time\n",
    "import pandas as pd"
   ]
  },
  {
   "cell_type": "code",
   "execution_count": null,
   "id": "70e36291",
   "metadata": {},
   "outputs": [],
   "source": [
    "# custom path -- change to match your file structure\n",
    "# data_root =  r'path/to/your/aireadi release/'  # change this to your own path - use this form if your path contains spaces\n",
    "data_root = \"/Volumes/data/datasets/AIREADI/YEAR2/\" # change to your path"
   ]
  },
  {
   "cell_type": "code",
   "execution_count": null,
   "id": "0c928bdd",
   "metadata": {},
   "outputs": [],
   "source": [
    "# Load clinical data from TSV and CSV files\n",
    "\n",
    "# To avoid warnings \"DtypeWarning: Columns (24) have mixed types. Specify dtype option on import or set low_memory=False.\", some\n",
    "# data types are specified.\n",
    "participants_df = pd.read_csv(data_root + 'participants.tsv', sep='\\t')\n",
    "measurement_df = pd.read_csv(os.path.join(data_root, \"clinical_data\", \"measurement.csv\"), low_memory=False)  # DtypeWarning\n",
    "condition_occurrence_df = pd.read_csv(os.path.join(data_root, \"clinical_data\", \"condition_occurrence.csv\"))\n",
    "observation_df = pd.read_csv(os.path.join(data_root, \"clinical_data\", \"observation.csv\"))\n"
   ]
  },
  {
   "cell_type": "code",
   "execution_count": null,
   "id": "bf00920e-ab8a-4c64-9296-cb5c366a1941",
   "metadata": {},
   "outputs": [],
   "source": [
    "# in year2 data, the id_field was called participant_id\n",
    "# in year3 data, the id_field was changed to person_id to make table joins easier\n",
    "# this notebook will convert to use \"person_id\" for the id_field\n",
    "id_field = \"person_id\"\n",
    "participants_df = participants_df.rename(columns={'participant_id': id_field})\n",
    "\n",
    "print(f\"In this notebook, the id_field is: {id_field}\")"
   ]
  },
  {
   "cell_type": "code",
   "execution_count": null,
   "id": "948eb6a5-81df-4562-9bb7-0a6a23d2194d",
   "metadata": {},
   "outputs": [],
   "source": [
    "# Find concept IDs in measurement.csv\n",
    "measurement_unique_values = measurement_df['measurement_source_value'].unique()\n",
    "measurement_sorted_list = sorted(measurement_unique_values)\n",
    "for value in measurement_sorted_list:\n",
    "    concept_id = measurement_df['measurement_concept_id'].get(measurement_df['measurement_source_value']==value).iloc[0]\n",
    "    print(f\"'{value}': {concept_id},\")"
   ]
  },
  {
   "cell_type": "code",
   "execution_count": null,
   "id": "67fce1a3-2dfc-4016-a59d-fe336d16bc2f",
   "metadata": {},
   "outputs": [],
   "source": [
    "# Find concept IDs in condition_occurrence.csv and observation.csv\n",
    "if \"condition_concept_id\" in condition_occurrence_df.columns:\n",
    "    condition_matches = condition_occurrence_df[\"condition_concept_id\"].isin(observation_df[\"qualifier_concept_id\"])\n",
    "    matching_observations = observation_df[observation_df[\"qualifier_concept_id\"].isin(condition_occurrence_df[\"condition_concept_id\"])]\n",
    "\n",
    "    used_rows = observation_df[\"qualifier_concept_id\"].isin(matching_observations[\"qualifier_concept_id\"])\n",
    "    observation_remaining = observation_df[~used_rows]\n"
   ]
  },
  {
   "cell_type": "code",
   "execution_count": null,
   "id": "0f5e2156-c68c-43c5-b8f3-55df289429da",
   "metadata": {},
   "outputs": [],
   "source": [
    "condition_unique_values = matching_observations['observation_source_value'].unique()\n",
    "condition_sorted_list = sorted(condition_unique_values)\n",
    "for value in condition_sorted_list:\n",
    "    concept_id = matching_observations['qualifier_concept_id'].get(matching_observations['observation_source_value']==value).iloc[0]\n",
    "    print(f\"'{value}': {concept_id},\")"
   ]
  },
  {
   "cell_type": "code",
   "execution_count": null,
   "id": "824f5cc9-d853-4703-8468-1dfd4fde9ea8",
   "metadata": {
    "scrolled": true
   },
   "outputs": [],
   "source": [
    "observation_unique_values = observation_remaining['observation_source_value'].unique()\n",
    "observation_sorted_list = sorted(observation_unique_values)\n",
    "for value in observation_sorted_list:\n",
    "    concept_id = observation_remaining['observation_concept_id'].get(observation_remaining['observation_source_value']==value).iloc[0]\n",
    "    print(f\"'{value}': {concept_id},\")"
   ]
  },
  {
   "cell_type": "markdown",
   "id": "d8674380-9932-44b8-b454-d1f4da1da3d1",
   "metadata": {},
   "source": [
    "# How to make csv files for analyzing"
   ]
  },
  {
   "cell_type": "markdown",
   "id": "1d60f9e4-6937-4165-a45d-7e894755e689",
   "metadata": {},
   "source": [
    "### Example of making a csv file by using variables listed in measurement.csv"
   ]
  },
  {
   "cell_type": "code",
   "execution_count": null,
   "id": "9961b694-4287-467e-8d31-e085e09e5753",
   "metadata": {},
   "outputs": [],
   "source": [
    "# concept_ids lets you build a dictionary that maps concept names to their IDs\n",
    "# \"measurement_concept_id\" should be used as the concept ID\n",
    "concept_ids = {\n",
    "\n",
    "'bmi_vsorres, BMI': 4245997,\n",
    "'viaodplog, VA Letter Score - Photopic VA - OD': 2005200042,\n",
    "'viaosplog, VA Letter Score - Photopic VA - OS': 2005200043,\n",
    "}\n",
    "\n",
    "def parse_measurement(df, concept_id):\n",
    "    temp_df = df[df['measurement_concept_id'] == concept_id]\n",
    "    return temp_df\n",
    "\n",
    "\n",
    "final_df = pd.DataFrame(columns=[id_field, 'age', 'study_group', 'clinical_site'])\n",
    "\n",
    "final_df[id_field] = participants_df[id_field]\n",
    "final_df['age'] = participants_df['age']\n",
    "final_df['study_group'] = participants_df['study_group']\n",
    "final_df['clinical_site'] = participants_df['clinical_site']\n",
    "\n",
    "for key, value in concept_ids.items():\n",
    "    temp_df = parse_measurement(measurement_df, value)\n",
    "    temp_df = temp_df.rename(columns={'value_as_number': key})\n",
    "    temp_df = temp_df.rename(columns={'participant_id': id_field})\n",
    "    temp_df = temp_df[[id_field, key]]\n",
    "\n",
    "    final_df = pd.merge(final_df, temp_df, on=id_field, how='left')\n",
    " \n",
    "\n",
    "final_df"
   ]
  },
  {
   "cell_type": "markdown",
   "id": "e0113cec-9f58-4817-8853-b34768bff783",
   "metadata": {},
   "source": [
    "### Example of making a csv file by using variables listed in observation.csv (and condition_occurance.csv)\n",
    "Variables in condition_occurance.csv are overlapped with observation.csv."
   ]
  },
  {
   "cell_type": "code",
   "execution_count": null,
   "id": "902dba74-6208-4481-b8ff-90234ac6e6ac",
   "metadata": {},
   "outputs": [],
   "source": [
    "# concept_ids lets you build a dictionary that maps concept names to their IDs\n",
    "# \"qualifier_concept_id\" should be used as the concept ID\n",
    "concept_ids = {\n",
    "    'mhoccur_ms, Multiple sclerosis': 374919,\n",
    "    'mhoccur_oa, Osteoporosis': 80502,\n",
    "    'mhoccur_obs, Obesity': 433736  \n",
    "}\n",
    "\n",
    "\n",
    "def parse_qualifier(df, concept_id):\n",
    "    temp_df = df[df[\"qualifier_concept_id\"] == concept_id]\n",
    "    return temp_df\n",
    "\n",
    "final_df = pd.DataFrame(columns=[id_field, 'age', 'study_group', 'clinical_site'])\n",
    "\n",
    "final_df[id_field] = participants_df[id_field]\n",
    "final_df['age'] = participants_df['age']\n",
    "final_df['study_group'] = participants_df['study_group']\n",
    "final_df['clinical_site'] = participants_df['clinical_site']\n",
    "\n",
    "for key, value in concept_ids.items():\n",
    "    temp_df = parse_qualifier(observation_df, value)\n",
    "    temp_df = temp_df.rename(columns={'value_as_number': key})\n",
    "    temp_df = temp_df.rename(columns={'participant_id': id_field})\n",
    "    temp_df = temp_df[[id_field, key]]\n",
    "\n",
    "    final_df = pd.merge(final_df, temp_df, on=id_field, how='left')\n",
    " \n",
    "final_df"
   ]
  },
  {
   "cell_type": "code",
   "execution_count": null,
   "id": "6265ca2a-a596-43cb-ada4-65516fed5a8c",
   "metadata": {},
   "outputs": [],
   "source": [
    "# concept_ids lets you build a dictionary that maps concept names to their respective concept IDs\n",
    "# 'observation_concept_id' field has the concept IDs\n",
    "concept_ids = {\n",
    "\n",
    "'paidscore, PAID score': 2005200049,\n",
    "'years_of_education': 42528764  \n",
    "}\n",
    "\n",
    "\n",
    "def parse_observation(df, concept_id):\n",
    "    temp_df = df[df['observation_concept_id'] == concept_id]\n",
    "    return temp_df\n",
    "\n",
    "final_df = pd.DataFrame(columns=[id_field, 'age', 'study_group', 'clinical_site'])\n",
    "\n",
    "final_df[id_field] = participants_df[id_field]\n",
    "final_df['age'] = participants_df['age']\n",
    "final_df['study_group'] = participants_df['study_group']\n",
    "final_df['clinical_site'] = participants_df['clinical_site']\n",
    "\n",
    "for key, value in concept_ids.items():\n",
    "    temp_df = parse_observation(observation_df, value)\n",
    "    temp_df = temp_df.rename(columns={'value_as_number': key})\n",
    "    temp_df = temp_df.rename(columns={'participant_id': id_field})\n",
    "    temp_df = temp_df[[id_field, key]]\n",
    "\n",
    "    final_df = pd.merge(final_df, temp_df, on=id_field, how='left')\n",
    " \n",
    "final_df\n"
   ]
  },
  {
   "cell_type": "code",
   "execution_count": null,
   "id": "aeb9c99f-d701-421b-b1ea-e98d4b092702",
   "metadata": {},
   "outputs": [],
   "source": [
    "print('done')"
   ]
  }
 ],
 "metadata": {
  "kernelspec": {
   "display_name": "Python 3 (ipykernel)",
   "language": "python",
   "name": "python3"
  },
  "language_info": {
   "codemirror_mode": {
    "name": "ipython",
    "version": 3
   },
   "file_extension": ".py",
   "mimetype": "text/x-python",
   "name": "python",
   "nbconvert_exporter": "python",
   "pygments_lexer": "ipython3",
   "version": "3.12.0"
  }
 },
 "nbformat": 4,
 "nbformat_minor": 5
}
