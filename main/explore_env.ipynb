{
 "cells": [
  {
   "cell_type": "markdown",
   "id": "fe9cd5b0-7a0e-487c-bf82-5183d8dc6dd6",
   "metadata": {},
   "source": [
    "# EnvSensor_explorer\n",
    "\n",
    "This notebook serves as an introduction to working with the environmental sensor data. It will open one file and make a few plots.\n",
    "\n",
    "The environmental sensor file structure is based on NASA's ESDS.\n",
    "Information on ESDS is available at     \n",
    "https://www.earthdata.nasa.gov/esdis/esco/standards-and-practices/ascii-file-format-guidelines-for-earth-science-data   \n",
    "\n",
    "\n",
    "File organization is expected to follow this pattern:\n",
    "\n",
    "pilot_data_root           \n",
    "&emsp;environment    \n",
    "&emsp;&emsp;manifest.tsv    \n",
    "&emsp;&emsp;environmental_sensor    \n",
    "&emsp;&emsp;&emsp;leelab_anura    \n",
    "&emsp;&emsp;&emsp;&emsp;0001    \n",
    "&emsp;&emsp;&emsp;&emsp;&emsp;0001_ENV.csv     \n",
    "&emsp;&emsp;&emsp;&emsp;0002    \n",
    "&emsp;&emsp;&emsp;&emsp;&emsp;0002_ENV.csv   \n",
    "&emsp;&emsp;&emsp;&emsp;... etc."
   ]
  },
  {
   "cell_type": "code",
   "execution_count": null,
   "id": "d182842d-7b30-42e3-8217-53a6e5cb25d9",
   "metadata": {
    "tags": []
   },
   "outputs": [],
   "source": [
    "from datetime import datetime, timedelta\n",
    "\n",
    "import matplotlib.axes as plt_axes  # to catch the class\n",
    "import matplotlib.axis as plt_axis  # to catch the class\n",
    "import matplotlib.dates as mdates  # to use ConciseDateFormatter\n",
    "import matplotlib.pyplot as plt  # need to make the plots\n",
    "import pandas as pd"
   ]
  },
  {
   "cell_type": "markdown",
   "id": "651231ba-bb44-4dda-8d0c-82351f420817",
   "metadata": {},
   "source": [
    "## custom path -- change to match your file structure"
   ]
  },
  {
   "cell_type": "code",
   "execution_count": null,
   "id": "729aa5c5-cfcf-43c0-9363-cd1ff45b2fc2",
   "metadata": {},
   "outputs": [],
   "source": [
    "data_root = \"/Volumes/data/datasets/AIREADI/YEAR2\"  # change this to your own path"
   ]
  },
  {
   "cell_type": "markdown",
   "id": "2f88cb60-53cc-4c12-ba27-76b1b250dfd8",
   "metadata": {},
   "source": [
    "# Read the manifest"
   ]
  },
  {
   "cell_type": "code",
   "execution_count": null,
   "id": "0307107f-df2d-468d-b85c-c89a7a2e05c9",
   "metadata": {},
   "outputs": [],
   "source": [
    "manifest_path = data_root + \"/environment/manifest.tsv\"\n",
    "print(manifest_path)"
   ]
  },
  {
   "cell_type": "code",
   "execution_count": null,
   "id": "0f21ff53-20e3-4673-bfce-20eacc81551a",
   "metadata": {},
   "outputs": [],
   "source": [
    "df = pd.read_csv(manifest_path, sep=\"\\t\")\n",
    "print(df.columns)"
   ]
  },
  {
   "cell_type": "code",
   "execution_count": null,
   "id": "dcf835ba-475e-4aad-b1ee-b2a7f438f1db",
   "metadata": {},
   "outputs": [],
   "source": [
    "# in year2 data, the id_field was called participant_id\n",
    "# in year3 data, the id_field was changed to person_id to match clinical_data and make table joins easier\n",
    "if \"participant_id\" in df.columns:\n",
    "    id_field = \"participant_id\"\n",
    "else:\n",
    "    id_field = \"person_id\"\n",
    "\n",
    "print(f\"In this dataset, the id_field is: {id_field}\")"
   ]
  },
  {
   "cell_type": "code",
   "execution_count": null,
   "id": "0a65ea2c-ad93-461a-9043-e14c06c885ad",
   "metadata": {},
   "outputs": [],
   "source": [
    "df[id_field].nunique()  # number of unique participants"
   ]
  },
  {
   "cell_type": "code",
   "execution_count": null,
   "id": "5fafe0f6-386f-4700-b2ed-4e1e2c5b4447",
   "metadata": {},
   "outputs": [],
   "source": [
    "df.head()"
   ]
  },
  {
   "cell_type": "code",
   "execution_count": null,
   "id": "2bcdd878-0285-4786-b5a1-62fa67ef472d",
   "metadata": {},
   "outputs": [],
   "source": [
    "key_columns = [\n",
    "    id_field,\n",
    "    \"sensor_location\",\n",
    "    \"sensor_sampling_extent_in_days\",\n",
    "]  # optionally view only a few columns\n",
    "\n",
    "df[key_columns].head(2)"
   ]
  },
  {
   "cell_type": "markdown",
   "id": "4717669c-09fd-4fba-b297-ad83e6aa36ea",
   "metadata": {},
   "source": [
    "# Select a set of data to explore\n",
    "\n",
    "ESDS format contains all data in a single file with a defined header and body   \n",
    " * header\n",
    "    - all lines begin with #\n",
    "    - the first line tells us how many header lines there are\n",
    " * body\n",
    "    - first line of the body lists the field names\n",
    "    - all subsequent data is in observation rows\n",
    "    \n",
    "Note that the path env_data includes the file extension"
   ]
  },
  {
   "cell_type": "code",
   "execution_count": null,
   "id": "8b3e4f21-7142-48d7-9808-95a8ffecb264",
   "metadata": {},
   "outputs": [],
   "source": [
    "pid = 1001  # select a participant ID\n",
    "\n",
    "pid_csv = df[df[id_field] == pid][\"env_sensor_filepath\"][0]\n",
    "print(f\"{pid} full path: {pid_csv}\")"
   ]
  },
  {
   "cell_type": "code",
   "execution_count": null,
   "id": "81ef1397-8121-4d86-bdf4-704c500738f2",
   "metadata": {},
   "outputs": [],
   "source": [
    "env_path = data_root + pid_csv\n",
    "print(env_path)"
   ]
  },
  {
   "cell_type": "code",
   "execution_count": null,
   "id": "0982f6d3-2e63-4caa-b8e9-9d93c8d99c0c",
   "metadata": {},
   "outputs": [],
   "source": [
    "# this is not necessary as all files have the same number of header lines, but it future-proofs this notebook\n",
    "with open(env_path, \"r\") as f:\n",
    "    first_line = f.readline()  # expect \"# header_lines: 45\"\n",
    "num_header_lines = int(first_line.split(\":\")[-1])\n",
    "print(num_header_lines)"
   ]
  },
  {
   "cell_type": "markdown",
   "id": "a89a54b9-8972-41a8-a1fd-0f8973188426",
   "metadata": {},
   "source": [
    "## read and explore the data\n",
    "\n",
    "This example does not plot all of the data columns. Instead, it shows examples of \n",
    " - plotting single columns. &nbsp;&nbsp;&nbsp;&nbsp;&nbsp;Examples: PM2.5, VOC\n",
    " - plotting columns together. &nbsp;Example: all of the spectral channels, color coded by wavelength\n",
    "\n",
    "See the full list of EnvSensor columns for other data to explore."
   ]
  },
  {
   "cell_type": "code",
   "execution_count": null,
   "id": "18c54c97-49e6-4de3-9488-a1ff0a28f7aa",
   "metadata": {},
   "outputs": [],
   "source": [
    "df = pd.read_csv(env_path, parse_dates=['ts'], date_format = \"%Y-%m-%d %H:%M:%S\", skiprows=num_header_lines)\n",
    "print(df.shape)"
   ]
  },
  {
   "cell_type": "code",
   "execution_count": null,
   "id": "f1dfa3d0-08c8-4b6a-bac1-868c9a07410e",
   "metadata": {},
   "outputs": [],
   "source": [
    "print(f\"EnvSensor columns: {df.columns}\")"
   ]
  },
  {
   "cell_type": "code",
   "execution_count": null,
   "id": "a4c6947a-a10b-4855-8ccb-e86075a4423d",
   "metadata": {},
   "outputs": [],
   "source": [
    "df.describe()"
   ]
  },
  {
   "cell_type": "markdown",
   "id": "72766837-41d6-4704-af04-03a3aadb432c",
   "metadata": {},
   "source": [
    "## plot non-spectral data"
   ]
  },
  {
   "cell_type": "code",
   "execution_count": null,
   "id": "4edf6022-6db4-4fa1-90a7-1b25d6aa5bed",
   "metadata": {},
   "outputs": [],
   "source": [
    "yaxis_adjusts_to_data = False"
   ]
  },
  {
   "cell_type": "code",
   "execution_count": null,
   "id": "35a1d2dd-c3c2-4dee-8c7e-ceccb8be7587",
   "metadata": {},
   "outputs": [],
   "source": [
    "fig, ax = plt.subplots(2, 1, figsize=(8, 6))\n",
    "fig.suptitle(\"Snapshot - plot 2 of the data columns\\n\\n\")\n",
    "\n",
    "df.plot.line(x=\"ts\", y=\"pm2.5\", ax=ax[0], legend=False)\n",
    "if yaxis_adjusts_to_data:\n",
    "    ax[0].set_title(\"PM2.5 - yaxis scales with data\")\n",
    "else:\n",
    "    ax[0].set_title(\"PM2.5 - yaxis [0, 7000]\")\n",
    "    ax[0].set_ylim(0, 7000)\n",
    "ax[0].tick_params(labelbottom=False)\n",
    "x_axis_0 = ax[0].axes.get_xaxis()\n",
    "x_label_0 = x_axis_0.get_label()\n",
    "x_label_0.set_visible(False)\n",
    "\n",
    "df.plot.line(x=\"ts\", y=\"voc\", ax=ax[1], legend=False)\n",
    "if yaxis_adjusts_to_data:\n",
    "    ax[1].set_title(\"VOC - yaxis scales with data\")\n",
    "else:\n",
    "    ax[1].set_title(\"VOC - yaxis [0, 505]\")\n",
    "    ax[1].set_ylim(0, 505)\n",
    "\n",
    "plt.tick_params(\n",
    "    axis=\"x\",  # changes apply to the x-axis\n",
    "    which=\"both\",  # both major and minor ticks are affected\n",
    "    bottom=True,  # set ticks along the bottom edge on\n",
    "    top=False,  # set ticks along the top edge off\n",
    "    labelbottom=True,\n",
    ")  # set labels along the bottom edge on\n",
    "\n",
    "plt.xlabel(\"timestamp\")\n",
    "plt.xticks(rotation=45, ha=\"right\")\n",
    "plt.tight_layout()"
   ]
  },
  {
   "cell_type": "markdown",
   "id": "abb4e656-5062-4158-943e-2fcc1aba3176",
   "metadata": {},
   "source": [
    "## plot spectral data"
   ]
  },
  {
   "cell_type": "code",
   "execution_count": null,
   "id": "694c2731-ac00-4a48-94e2-ea7e0e5e233e",
   "metadata": {},
   "outputs": [],
   "source": [
    "def create_spectral_plot(\n",
    "    df, plot_ht=3, ax=None, add_legend=True, yaxis_adjusts_to_data=False, verbose=False\n",
    "):\n",
    "\n",
    "    if ax is None:\n",
    "        fig, ax = plt.subplots(1, figsize=(10, plot_ht))\n",
    "    elif type(ax) is plt_axes._axes.Axes:\n",
    "        # 'matplotlib.axes._axes.Axes'\n",
    "        fig = ax.get_figure()\n",
    "    else:\n",
    "        fig = ax.Axes.get_figure()\n",
    "\n",
    "    color_dict = {\n",
    "        \"purple\": \"#800080\",\n",
    "        \"navy\": \"#000080\",\n",
    "        \"med blue\": \"#809FFF\",\n",
    "        \"light blue\": \"#BFCFFF\",\n",
    "        \"green\": \"#008000\",\n",
    "        \"yellow\": \"#008000\",\n",
    "        \"orange\": \"#FFA600\",\n",
    "        \"red\": \"#FF0000\",\n",
    "        \"brown\": \"#800000\",\n",
    "        \"gray\": \"#BFBFBF\",\n",
    "    }\n",
    "\n",
    "    chan_dict = {  # these may be wrong... only the hex colors match the named colors for sure\n",
    "        \"lch0\": {\"color\": \"purple\", \"label\": \"415 nm\"},  # f1 - 415 nm  purple\n",
    "        \"lch1\": {\"color\": \"navy\", \"label\": \"445 nm\"},  # f2 - 445 nm  navy\n",
    "        \"lch2\": {\"color\": \"med blue\", \"label\": \"480 nm\"},  # f3 - 480 nm  med blue\n",
    "        \"lch3\": {\"color\": \"light blue\", \"label\": \"515 nm\"},  # f4 - 515 nm  light blue\n",
    "        # lch4 and lch5 are not used\n",
    "        \"lch6\": {\"color\": \"green\", \"label\": \"555 nm\"},  # f5 - 555 nm  green\n",
    "        \"lch7\": {\"color\": \"yellow\", \"label\": \"590 nm\"},  # f6 - 590 nm  yellow\n",
    "        \"lch8\": {\"color\": \"orange\", \"label\": \"630 nm\"},  # f7 - 630 nm  orange\n",
    "        \"lch9\": {\"color\": \"red\", \"label\": \"680 nm\"},  # f9 - 680 nm  red\n",
    "        \"lch10\": {\n",
    "            \"color\": \"gray\",\n",
    "            \"label\": \"All (no filter)\",\n",
    "        },  # clear - maybe gray or dashed? Si response, non-filtered\n",
    "        \"lch11\": {\n",
    "            \"color\": \"brown\",\n",
    "            \"label\": \"NIR 910 nm\",\n",
    "        },  # NIR - 910 nm  maybe brown?\n",
    "        \"ff\": {\"color\": \"gray\", \"label\": \"Flicker Hz\"},  # flicker (dashed)\n",
    "    }\n",
    "\n",
    "    lchans = [\n",
    "        \"lch0\",\n",
    "        \"lch1\",\n",
    "        \"lch2\",\n",
    "        \"lch3\",\n",
    "        \"lch6\",\n",
    "        \"lch7\",\n",
    "        \"lch8\",\n",
    "        \"lch9\",\n",
    "        \"lch11\",\n",
    "        \"lch10\",\n",
    "    ]\n",
    "    for c in lchans:\n",
    "        color_to_use = chan_dict[c][\"color\"]\n",
    "        ret = df.plot.line(\n",
    "            x=\"ts\",\n",
    "            y=c,\n",
    "            ax=ax,\n",
    "            color=color_dict[color_to_use],\n",
    "            label=chan_dict[c][\"label\"],\n",
    "            #  marker='*',style=True,legend=False\n",
    "        )\n",
    "\n",
    "    if not yaxis_adjusts_to_data:\n",
    "        ax.set_ylim(0, 1)\n",
    "    ax.tick_params(labelbottom=False)\n",
    "\n",
    "    if add_legend is False:\n",
    "        ax.get_legend().remove()\n",
    "\n",
    "    plt.tight_layout()\n",
    "    return fig"
   ]
  },
  {
   "cell_type": "code",
   "execution_count": null,
   "id": "268bfa2c-fb76-4cbf-869a-a8151eaf17df",
   "metadata": {},
   "outputs": [],
   "source": [
    "fig = create_spectral_plot(\n",
    "    df, plot_ht=3, ax=None, add_legend=True, yaxis_adjusts_to_data=False, verbose=False\n",
    ")"
   ]
  },
  {
   "cell_type": "code",
   "execution_count": null,
   "id": "204e2b6d-91db-4adb-999d-0e6e85586f5a",
   "metadata": {},
   "outputs": [],
   "source": [
    "print(\"Done\")"
   ]
  },
  {
   "cell_type": "code",
   "execution_count": null,
   "id": "98b74149-bb50-49d5-950e-0d2cebec011c",
   "metadata": {},
   "outputs": [],
   "source": []
  }
 ],
 "metadata": {
  "kernelspec": {
   "display_name": "Python 3 (ipykernel)",
   "language": "python",
   "name": "python3"
  },
  "language_info": {
   "codemirror_mode": {
    "name": "ipython",
    "version": 3
   },
   "file_extension": ".py",
   "mimetype": "text/x-python",
   "name": "python",
   "nbconvert_exporter": "python",
   "pygments_lexer": "ipython3",
   "version": "3.12.0"
  }
 },
 "nbformat": 4,
 "nbformat_minor": 5
}
