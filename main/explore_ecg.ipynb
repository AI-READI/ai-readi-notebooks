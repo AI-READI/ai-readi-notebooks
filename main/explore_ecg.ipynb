{
 "cells": [
  {
   "cell_type": "markdown",
   "id": "8e99727b-11f8-4d23-acbe-e135cd1e0917",
   "metadata": {},
   "source": [
    "# ECG_explorer\n",
    "\n",
    "This notebook serves as an introduction to working with ECG data. It will open one set of ECG data and make a few plots.\n",
    "\n",
    "Information on wfdb is available at https://wfdb-python.readthedocs.io/en/latest/index.html    \n",
    "Information on working with ECG and wfdb files in other datasets is also available at https://physionet.org/\n",
    "\n",
    "File organization is expected to follow this pattern:\n",
    "\n",
    "pilot_data_root           \n",
    "&emsp;cardiac_ecg    \n",
    "&emsp;&emsp;manifest.tsv    \n",
    "&emsp;&emsp;ecg_12lead    \n",
    "&emsp;&emsp;&emsp;philips_tc30    \n",
    "&emsp;&emsp;&emsp;&emsp;0001    \n",
    "&emsp;&emsp;&emsp;&emsp;&emsp;0001_ecg_<uniq_tag>.dat    \n",
    "&emsp;&emsp;&emsp;&emsp;&emsp;0001_ecg_<uniq_tag>.hea    \n",
    "&emsp;&emsp;&emsp;&emsp;0002    \n",
    "&emsp;&emsp;&emsp;&emsp;&emsp;0002_ecg_<uniq_tag>.dat    \n",
    "&emsp;&emsp;&emsp;&emsp;&emsp;0002_ecg_<uniq_tag>.hea    \n",
    "&emsp;&emsp;&emsp;&emsp;... etc."
   ]
  },
  {
   "cell_type": "code",
   "execution_count": null,
   "id": "03fce6df-32eb-4a0c-9a3b-f10520cd41d4",
   "metadata": {
    "tags": []
   },
   "outputs": [],
   "source": [
    "import matplotlib.pyplot as plt\n",
    "import pandas as pd\n",
    "import wfdb  # install this from https://pypi.org/project/wfdb/\n",
    "\n",
    "# from datetime import datetime"
   ]
  },
  {
   "cell_type": "code",
   "execution_count": null,
   "id": "b42e427c-0e5e-45af-9733-261a8fa1e3c9",
   "metadata": {},
   "outputs": [],
   "source": [
    "print(wfdb.__version__)  # expect 4.2.0"
   ]
  },
  {
   "cell_type": "markdown",
   "id": "f518bf23-ff0c-4629-b43c-bdcb98f36513",
   "metadata": {},
   "source": [
    "## custom path -- change to match your file structure"
   ]
  },
  {
   "cell_type": "code",
   "execution_count": null,
   "id": "3f486ddd-c3d9-4273-a657-bf74d1f515fe",
   "metadata": {},
   "outputs": [],
   "source": [
    "data_root = \"/Volumes/data/datasets/AIREADI/YEAR2\"  # change this to your own path"
   ]
  },
  {
   "cell_type": "markdown",
   "id": "128992d0-ee71-489b-9227-5bd5a73bcd9a",
   "metadata": {},
   "source": [
    "# Read the manifest"
   ]
  },
  {
   "cell_type": "code",
   "execution_count": null,
   "id": "d4c2f61b-a3f4-4508-ac86-3bb15d0ba95c",
   "metadata": {},
   "outputs": [],
   "source": [
    "manifest_path = data_root + \"/cardiac_ecg/manifest.tsv\"\n",
    "print(manifest_path)"
   ]
  },
  {
   "cell_type": "code",
   "execution_count": null,
   "id": "690ea8ba-4714-407a-b0b6-47d76f1a5709",
   "metadata": {},
   "outputs": [],
   "source": [
    "df = pd.read_csv(manifest_path, sep=\"\\t\")\n",
    "print(df.columns)"
   ]
  },
  {
   "cell_type": "code",
   "execution_count": null,
   "id": "3adb0b0b-d6c4-46ef-8cf9-91ced7b4b56c",
   "metadata": {},
   "outputs": [],
   "source": [
    "df[\"participant_id\"].nunique()  # number of unique participants"
   ]
  },
  {
   "cell_type": "code",
   "execution_count": null,
   "id": "83966738-8427-4e7f-a60a-b40084749437",
   "metadata": {},
   "outputs": [],
   "source": [
    "df.head()"
   ]
  },
  {
   "cell_type": "code",
   "execution_count": null,
   "id": "7968fdb2-c0b7-4eed-b635-764f5cc4c704",
   "metadata": {},
   "outputs": [],
   "source": [
    "key_columns = [\n",
    "    \"participant_id\",\n",
    "    \"wfdb_hea_filepath\",\n",
    "    \"Rate\",\n",
    "    \"QRS\",\n",
    "]  # optionally view only a few columns\n",
    "\n",
    "df[key_columns].head(2)"
   ]
  },
  {
   "cell_type": "markdown",
   "id": "8a7b4ea8-531a-4ddb-99b3-c2de601e50da",
   "metadata": {},
   "source": [
    "# Select a set of data to explore\n",
    "\n",
    "wfdb format splits the data into 2 files:    \n",
    " * basename.dat  # contains the waveforms in a binary format    \n",
    " * basename.hea  # contains header and annotation information in ASCII format    \n",
    "    \n",
    "Note that the path ecg_data includes the basename of the final files, but not the .hea (header) or .dat (data) file extension"
   ]
  },
  {
   "cell_type": "code",
   "execution_count": null,
   "id": "c25aea12-5284-42ff-a079-dc742bbe490c",
   "metadata": {},
   "outputs": [],
   "source": [
    "pid = 1001  # select a participant ID\n",
    "\n",
    "pid_hea = df[df[\"participant_id\"] == pid][\"wfdb_hea_filepath\"][0]\n",
    "pid_basename = pid_hea.split(\".\")[0]  # keep only the path with the basename\n",
    "print(f\"{pid} full path: {pid_hea}\")\n",
    "print(f\"{pid} base name only: {pid_basename}\")"
   ]
  },
  {
   "cell_type": "code",
   "execution_count": null,
   "id": "a0f8b239-f15d-4c29-af95-511586861719",
   "metadata": {},
   "outputs": [],
   "source": [
    "ecg_path = data_root + pid_basename\n",
    "print(ecg_path)"
   ]
  },
  {
   "cell_type": "code",
   "execution_count": null,
   "id": "f9ab8067-69d4-4bcf-b865-55f5497a536f",
   "metadata": {},
   "outputs": [],
   "source": [
    "!ls {ecg_path + '.*'}"
   ]
  },
  {
   "cell_type": "markdown",
   "id": "467f2ebf-4363-4291-a9e0-df19f4b25c42",
   "metadata": {},
   "source": [
    "## plot everything using wfdb\n",
    "\n",
    "This plot will give you an overview of all of the signals. \n",
    "\n",
    "Note that the there is always a reference pulse at the end of the signal that is 1mV x 0.2 seconds."
   ]
  },
  {
   "cell_type": "code",
   "execution_count": null,
   "id": "299ac463-96ba-4362-98ef-810fa9f95d67",
   "metadata": {},
   "outputs": [],
   "source": [
    "record = wfdb.rdrecord(ecg_path)\n",
    "fig_handle_grids = wfdb.plot_wfdb(\n",
    "    record, figsize=(10, 14), ecg_grids=\"all\", return_fig=True\n",
    ")\n",
    "# fig_handle_grids.savefig(f'example_wfdb_fig_ecg_grids.png')   # keep in mind that you must safeguard any exported data"
   ]
  },
  {
   "cell_type": "markdown",
   "id": "3883c34a-7366-409e-8988-19038a87770a",
   "metadata": {},
   "source": [
    "## plot and explore selected traces\n",
    "\n",
    "You may want to do something else with the traces such as view a section more closely, or select only a few traces to view.\n",
    "\n",
    "Here, we will plot only the first few channels. See the docs at https://wfdb-python.readthedocs.io/en/latest/index.html for more information."
   ]
  },
  {
   "cell_type": "code",
   "execution_count": null,
   "id": "4cb992f9-f1c7-47ba-9ec0-bf46f439c130",
   "metadata": {},
   "outputs": [],
   "source": [
    "type(record)  # expect wfdb.io.record.Record"
   ]
  },
  {
   "cell_type": "code",
   "execution_count": null,
   "id": "e00a10a2-de05-4b3e-a4f5-8ff1c362a7a8",
   "metadata": {},
   "outputs": [],
   "source": [
    "signals, fields = wfdb.rdsamp(\n",
    "    ecg_path, channels=[0, 6]\n",
    ")  # select a subset of the channels"
   ]
  },
  {
   "cell_type": "code",
   "execution_count": null,
   "id": "e6f7abfe-a31f-4c05-b1c3-691cbde170ff",
   "metadata": {},
   "outputs": [],
   "source": [
    "wfdb.plot_items(\n",
    "    signal=signals, fs=fields[\"fs\"], title=\"Learning to work with some signals\"\n",
    ")"
   ]
  },
  {
   "cell_type": "code",
   "execution_count": null,
   "id": "9e5609af-e73a-4adb-90e6-85e0ddb753df",
   "metadata": {},
   "outputs": [],
   "source": [
    "print(signals.shape, type(signals), \"\\n\")\n",
    "display(signals)"
   ]
  },
  {
   "cell_type": "markdown",
   "id": "fba01a3b-ddee-4745-b9f7-f08adb963cd6",
   "metadata": {},
   "source": [
    "## view header or annotation data\n",
    "\n",
    "This data may be helpful in interpreting the signals. This is the same information that would be included on a *.pdf printed output.\n",
    "\n",
    "Please note that all diagnostic comments are reported directly from the Philips TC30, \n",
    "but these have not been reviewed by a cardiologist."
   ]
  },
  {
   "cell_type": "code",
   "execution_count": null,
   "id": "addcb446-621c-4496-a554-fa205ba264b9",
   "metadata": {},
   "outputs": [],
   "source": [
    "display(\n",
    "    fields\n",
    ")  # this is information from the header *.hea file that relates to the signals"
   ]
  },
  {
   "cell_type": "code",
   "execution_count": null,
   "id": "b56b1f13-853a-4ecc-b20a-555d646a262c",
   "metadata": {},
   "outputs": [],
   "source": [
    "print(\"Done.\")"
   ]
  },
  {
   "cell_type": "code",
   "execution_count": null,
   "id": "a45fc23b-fa0a-4721-adb5-3eae0e80e61b",
   "metadata": {},
   "outputs": [],
   "source": []
  }
 ],
 "metadata": {
  "kernelspec": {
   "display_name": "ai-readi-dataset-notebooks",
   "language": "python",
   "name": "ai-readi-dataset-notebooks"
  },
  "language_info": {
   "codemirror_mode": {
    "name": "ipython",
    "version": 3
   },
   "file_extension": ".py",
   "mimetype": "text/x-python",
   "name": "python",
   "nbconvert_exporter": "python",
   "pygments_lexer": "ipython3",
   "version": "3.12.0"
  }
 },
 "nbformat": 4,
 "nbformat_minor": 5
}
