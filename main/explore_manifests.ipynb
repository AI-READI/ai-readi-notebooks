{
 "cells": [
  {
   "cell_type": "markdown",
   "id": "57e02d75-b5c2-4a60-b5f3-7886dafa34e3",
   "metadata": {},
   "source": [
    "# Explore all of the manifests\n",
    "\n",
    "This notebook will \n",
    "- read all of the manifest.tsv files\n",
    "- search for _filepath as a column name\n",
    "- check that each of those files exists"
   ]
  },
  {
   "cell_type": "code",
   "execution_count": null,
   "id": "2befb8fc-7b3f-45b2-b99f-c527363b4b4f",
   "metadata": {},
   "outputs": [],
   "source": [
    "import glob\n",
    "import os\n",
    "\n",
    "import pandas as pd\n",
    "from datetime import datetime"
   ]
  },
  {
   "cell_type": "code",
   "execution_count": null,
   "id": "ddc125c1-1db8-43da-966c-a8c6e0c3d10f",
   "metadata": {},
   "outputs": [],
   "source": [
    "t_start = datetime.now()"
   ]
  },
  {
   "cell_type": "markdown",
   "id": "efff30ec-2921-453f-9a66-3f1b2de35e7f",
   "metadata": {},
   "source": [
    "## Locate all manifests"
   ]
  },
  {
   "cell_type": "code",
   "execution_count": null,
   "id": "77720aee-0e95-4000-84c2-70b353d5578c",
   "metadata": {},
   "outputs": [],
   "source": [
    "data_root = \"/Volumes/data/datasets/AIREADI/YEAR2/\"  # change this to your own path - another example"
   ]
  },
  {
   "cell_type": "code",
   "execution_count": null,
   "id": "304af69c-21ec-463a-8548-93fc09457bab",
   "metadata": {},
   "outputs": [],
   "source": [
    "manifest_list = glob.glob(data_root + \"/*/manifest.tsv\")\n",
    "print(f\"{len(manifest_list)} manifest.tsv files found\")"
   ]
  },
  {
   "cell_type": "code",
   "execution_count": null,
   "id": "6527b793-6384-4755-9dad-80c7665e1527",
   "metadata": {},
   "outputs": [],
   "source": [
    "for m in manifest_list:\n",
    "    print(m)"
   ]
  },
  {
   "cell_type": "markdown",
   "id": "bd4e7940-b376-4d78-8c61-a27cee667a57",
   "metadata": {},
   "source": [
    "# Supporting functions"
   ]
  },
  {
   "cell_type": "code",
   "execution_count": null,
   "id": "1d40ba06-0c25-47d1-ab82-bc06e1fbff6d",
   "metadata": {},
   "outputs": [],
   "source": [
    "def file_exists(f):\n",
    "    if os.path.exists(f) and os.path.getsize(f) > 0:\n",
    "        fsize = os.path.getsize(f)\n",
    "    else:\n",
    "        fsize = 0  # indicates it does not exist or is empty\n",
    "    return fsize"
   ]
  },
  {
   "cell_type": "code",
   "execution_count": null,
   "id": "043f3462-9612-4636-80b5-2df3b76507df",
   "metadata": {},
   "outputs": [],
   "source": [
    "def read_manifest(m, verbose=False):\n",
    "    df = pd.read_csv(m, sep=\"\\t\")\n",
    "    if verbose:\n",
    "        print(f\"{m} has columns:\\n{df.columns}\")\n",
    "\n",
    "    file_path_cols = [c for c in df.columns if (\"filepath\" in c)]\n",
    "    # file_path_cols = [c for c in df.columns if (('file' in c) and not ('file_' in c))]\n",
    "    if verbose:\n",
    "        print(f\"  file_path columns are {file_path_cols}\")\n",
    "\n",
    "    return df, file_path_cols"
   ]
  },
  {
   "cell_type": "markdown",
   "id": "95f4c556-2f38-4d86-84d5-a10cb02c0016",
   "metadata": {},
   "source": [
    "# harmonize column names"
   ]
  },
  {
   "cell_type": "code",
   "execution_count": null,
   "id": "6e30a173-687b-482c-a202-47e658105530",
   "metadata": {},
   "outputs": [],
   "source": [
    "for m in manifest_list:\n",
    "    print(\"\\n\", 40 * \"_\")\n",
    "    df, fpcols = read_manifest(m, verbose=True)"
   ]
  },
  {
   "cell_type": "code",
   "execution_count": null,
   "id": "4d6ff881-c4f0-465f-8e98-f1ef2b186afd",
   "metadata": {},
   "outputs": [],
   "source": [
    "print(manifest_list)"
   ]
  },
  {
   "cell_type": "markdown",
   "id": "40a107d6-099b-403b-b23e-342b1f64ccb4",
   "metadata": {},
   "source": [
    "## manifest read check\n",
    "\n",
    "This script will read each manifest and assemble the information into a pandas dataframe. This can take a long time and is\n",
    "optional, of course. If the manifest list above was listed, then the manifest files have already been found."
   ]
  },
  {
   "cell_type": "code",
   "execution_count": null,
   "id": "635544c3-ae3e-4396-9e25-edeb66ebb681",
   "metadata": {},
   "outputs": [],
   "source": [
    "verbose = False  # omit extra statements to help this run more quickly\n",
    "\n",
    "for m in manifest_list:\n",
    "    # for m in ['/Data/dataset/wearable_activity_monitor/manifest.tsv', '/Data/dataset/wearable_blood_glucose/manifest.tsv']:\n",
    "    print(\"\\n\", 40 * \"_\", f\" {m} \", 10 * \"_\")\n",
    "    df, fpcols = read_manifest(m, verbose=False)\n",
    "    for c in fpcols:\n",
    "        print(c)\n",
    "        for f in df[c].values:\n",
    "            if (pd.isna(f)) or (f == \"None\"):\n",
    "                if verbose:\n",
    "                    print(f\"No filepath for one item in {c}; skip file size check. {f}\")\n",
    "            else:\n",
    "                try:\n",
    "                    # fpath = root_dir + f\n",
    "                    fpath = data_root + f\n",
    "                except Exception as e:\n",
    "                    print(f\"Failed to concatenate file name {f} due to {e.reason}\")\n",
    "                fsize = file_exists(fpath)\n",
    "                if verbose and fsize < 10:  # pick some small size to note\n",
    "                    print(f\"Small file report: {fsize} size of {fpath}\")\n",
    "    print(f\"Dataframe shape: {df.shape}\")"
   ]
  },
  {
   "cell_type": "code",
   "execution_count": null,
   "id": "4d7996da-a269-46aa-b6c1-90a762fe6ac7",
   "metadata": {},
   "outputs": [],
   "source": [
    "# Useful settings if this notebook is used to view any of the dataframes"
   ]
  },
  {
   "cell_type": "code",
   "execution_count": null,
   "id": "d41200f6-4ae1-4bb5-a61c-1850321900f5",
   "metadata": {},
   "outputs": [],
   "source": [
    "pd.set_option(\"display.max_colwidth\", None)\n",
    "pd.set_option(\"display.max_rows\", 500)"
   ]
  },
  {
   "cell_type": "code",
   "execution_count": null,
   "id": "12c5c2ad-72ac-408e-a448-6ced2dd65b2d",
   "metadata": {},
   "outputs": [],
   "source": [
    "t_finish = datetime.now()"
   ]
  },
  {
   "cell_type": "code",
   "execution_count": null,
   "id": "dc978b24-4a39-48fd-a0c6-cf63d2ed5adf",
   "metadata": {},
   "outputs": [],
   "source": [
    "print(\"Done finding files.\")\n",
    "print(f\"Runtime: {t_finish - t_start}\") # may be 30 minutes or longer"
   ]
  }
 ],
 "metadata": {
  "kernelspec": {
   "display_name": "ai-readi-dataset-notebooks",
   "language": "python",
   "name": "ai-readi-dataset-notebooks"
  },
  "language_info": {
   "codemirror_mode": {
    "name": "ipython",
    "version": 3
   },
   "file_extension": ".py",
   "mimetype": "text/x-python",
   "name": "python",
   "nbconvert_exporter": "python",
   "pygments_lexer": "ipython3",
   "version": "3.12.0"
  }
 },
 "nbformat": 4,
 "nbformat_minor": 5
}
